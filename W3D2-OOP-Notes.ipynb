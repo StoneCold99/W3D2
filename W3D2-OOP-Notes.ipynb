{
 "cells": [
  {
   "cell_type": "markdown",
   "metadata": {},
   "source": [
    "# Object-Oriented-Programming (OOP)"
   ]
  },
  {
   "cell_type": "markdown",
   "metadata": {},
   "source": [
    "## Tasks Today:\n",
    "\n",
    "   \n",
    "\n",
    "1) <b>Creating a Class (Initializing/Declaring)</b> <br>\n",
    "2) <b>Using a Class (Instantiating)</b> <br>\n",
    " &nbsp;&nbsp;&nbsp;&nbsp; a) Creating One Instance <br>\n",
    " &nbsp;&nbsp;&nbsp;&nbsp; b) Creating Multiple Instances <br>\n",
    " &nbsp;&nbsp;&nbsp;&nbsp; c) In-Class Exercise #1 - Create a Class 'Car' and instantiate three different makes of cars <br>\n",
    "3) <b>The \\__init\\__() Method</b> <br>\n",
    " &nbsp;&nbsp;&nbsp;&nbsp; a) The 'self' Attribute <br>\n",
    "4) <b>Class Attributes</b> <br>\n",
    " &nbsp;&nbsp;&nbsp;&nbsp; a) Initializing Attributes <br>\n",
    " &nbsp;&nbsp;&nbsp;&nbsp; b) Setting an Attribute Outside of the \\__init\\__() Method <br>\n",
    " &nbsp;&nbsp;&nbsp;&nbsp; c) Setting Defaults for Attributes <br>\n",
    " &nbsp;&nbsp;&nbsp;&nbsp; d) Accessing Class Attributes <br>\n",
    " &nbsp;&nbsp;&nbsp;&nbsp; e) Changing Class Attributes <br>\n",
    " &nbsp;&nbsp;&nbsp;&nbsp; f) In-Class Exercise #2 - Add a color and wheels attribute to your 'Car' class <br>\n",
    "5) <b>Class Methods</b> <br>\n",
    " &nbsp;&nbsp;&nbsp;&nbsp; a) Creating <br>\n",
    " &nbsp;&nbsp;&nbsp;&nbsp; b) Calling <br>\n",
    " &nbsp;&nbsp;&nbsp;&nbsp; c) Modifying an Attribute's Value Through a Method <br>\n",
    " &nbsp;&nbsp;&nbsp;&nbsp; d) Incrementing an Attribute's Value Through a Method <br>\n",
    " &nbsp;&nbsp;&nbsp;&nbsp; e) In-Class Exercise #3 - Add a method that prints the cars color and wheel number, then call them <br>\n",
    "6) <b>Inheritance</b> <br>\n",
    " &nbsp;&nbsp;&nbsp;&nbsp; a) Syntax for Inheriting from a Parent Class <br>\n",
    " &nbsp;&nbsp;&nbsp;&nbsp; b) The \\__init\\__() Method for a Child Class (super()) <br>\n",
    " &nbsp;&nbsp;&nbsp;&nbsp; c) Defining Attributes and Methods for the Child Class <br>\n",
    " &nbsp;&nbsp;&nbsp;&nbsp; d) Method Overriding <br>\n",
    " &nbsp;&nbsp;&nbsp;&nbsp; e) In-Class Exercise #4 - Create a class 'Ford' that inherits from 'Car' class and initialize it as a Blue Ford Explorer with 4 wheels using the super() method <br>\n",
    "7) <b>Classes as Attributes</b> <br>\n",
    "8) <b>Exercises</b> <br>\n",
    " &nbsp;&nbsp;&nbsp;&nbsp; a) Exercise #1 - Turn the shopping cart program from last week into an object-oriented program <br>"
   ]
  },
  {
   "cell_type": "markdown",
   "metadata": {},
   "source": [
    "## Creating a Class (Initializing/Declaring)\n",
    "<p>When creating a class, function, or even a variable you are initializing that object. Initializing and Declaring occur at the same time in Python, whereas in lower level languages you have to declare an object before initializing it. This is the first step in the process of using a class.</p>"
   ]
  },
  {
   "cell_type": "code",
   "execution_count": 56,
   "metadata": {},
   "outputs": [],
   "source": [
    "# begins with class keyword, all class names start with capital letter\n",
    "class Car():\n",
    "    wheels = 4\n",
    "    color = \"blue\"\n",
    "    title = \"You own this car!\""
   ]
  },
  {
   "cell_type": "code",
   "execution_count": 57,
   "metadata": {},
   "outputs": [],
   "source": [
    "# recipesoft of \n",
    "class Pho:\n",
    "    broth = \"chicken broth\"\n",
    "    protien = \"chicken\"\n",
    "    vegetables = ['bean sprouts', 'jalapeno', 'cilantro', 'carrots']\n",
    "    tasty_flavor_juices = ['lime', 'sriracha']\n",
    "    \n",
    "    "
   ]
  },
  {
   "cell_type": "markdown",
   "metadata": {},
   "source": [
    "## Using a Class (Instantiating)\n",
    "<p>The process of creating a class is called <i>Instantiating</i>. Each time you create a variable of that type of class, it is referred to as an <i>Instance</i> of that class. This is the second step in the process of using a class.</p>"
   ]
  },
  {
   "cell_type": "markdown",
   "metadata": {},
   "source": [
    "##### Creating One Instance"
   ]
  },
  {
   "cell_type": "code",
   "execution_count": 58,
   "metadata": {},
   "outputs": [
    {
     "name": "stdout",
     "output_type": "stream",
     "text": [
      "Ryan\n"
     ]
    }
   ],
   "source": [
    "my_name = \"ryan\"\n",
    "print(my_name.title())"
   ]
  },
  {
   "cell_type": "code",
   "execution_count": 59,
   "metadata": {},
   "outputs": [
    {
     "name": "stdout",
     "output_type": "stream",
     "text": [
      "4\n",
      "blue\n",
      "You own this car!\n",
      "Cheetor\n"
     ]
    }
   ],
   "source": [
    "ford = Car()# instantiate a class we set a variable\n",
    "#equal to the classname with paraenthese following the clasname\n",
    "\n",
    "# access class attributes with dot notation\n",
    "# instance.attribute\n",
    "print(ford.wheels)\n",
    "print(ford.color)\n",
    "print(ford.title)\n",
    "\n",
    "\n",
    "name_dict = {\n",
    "    \"name\":\"cheetor\"\n",
    "}\n",
    "\n",
    "print(name_dict[\"name\"].title())"
   ]
  },
  {
   "cell_type": "markdown",
   "metadata": {},
   "source": [
    "##### Creating Multiple Instances"
   ]
  },
  {
   "cell_type": "code",
   "execution_count": 60,
   "metadata": {},
   "outputs": [
    {
     "name": "stdout",
     "output_type": "stream",
     "text": [
      "4\n",
      "blue\n",
      "4\n"
     ]
    }
   ],
   "source": [
    "honda = Car()\n",
    "print(honda.wheels)\n",
    "mazda = Car()\n",
    "print(mazda.color)\n",
    "beatup_car_down_the_street = Car()\n",
    "print(beatup_car_down_the_street.wheels)"
   ]
  },
  {
   "cell_type": "markdown",
   "metadata": {},
   "source": [
    "##### In-Class Exercise #1 - Create a Class 'Car' and Instantiate three different makes of cars"
   ]
  },
  {
   "cell_type": "code",
   "execution_count": 61,
   "metadata": {},
   "outputs": [],
   "source": [
    "class Car():\n",
    "    wheels = \"6x6\"\n",
    "    color2 =  \"dark gray\"  \n",
    "    title = \"Its a big car\"\n",
    "    fuel = \"disel\""
   ]
  },
  {
   "cell_type": "code",
   "execution_count": 62,
   "metadata": {},
   "outputs": [
    {
     "name": "stdout",
     "output_type": "stream",
     "text": [
      "6x6\n"
     ]
    }
   ],
   "source": [
    "ford_velociraptor = Car()\n",
    "print(ford_velociraptor.wheels)"
   ]
  },
  {
   "cell_type": "code",
   "execution_count": 63,
   "metadata": {},
   "outputs": [
    {
     "name": "stdout",
     "output_type": "stream",
     "text": [
      "dark gray\n"
     ]
    }
   ],
   "source": [
    "Apocalypse_Warlord = Car()\n",
    "print(Apocalypse_Warlord.color2)"
   ]
  },
  {
   "cell_type": "code",
   "execution_count": 64,
   "metadata": {},
   "outputs": [
    {
     "name": "stdout",
     "output_type": "stream",
     "text": [
      "Its a big car\n"
     ]
    }
   ],
   "source": [
    "Ram_1500TRX = Car()\n",
    "print(Ram_1500TRX.title)"
   ]
  },
  {
   "cell_type": "code",
   "execution_count": 65,
   "metadata": {},
   "outputs": [
    {
     "name": "stdout",
     "output_type": "stream",
     "text": [
      "disel\n"
     ]
    }
   ],
   "source": [
    "Toyota = Car()\n",
    "print(Toyota.fuel)"
   ]
  },
  {
   "cell_type": "markdown",
   "metadata": {},
   "source": [
    "## The \\__init\\__() Method <br>\n",
    "<p>This method is used in almost every created class, and called only once upon the creation of the class instance. This method will initialize all variables needed for the object.</p>"
   ]
  },
  {
   "cell_type": "code",
   "execution_count": 66,
   "metadata": {},
   "outputs": [
    {
     "ename": "TypeError",
     "evalue": "Car() takes no arguments",
     "output_type": "error",
     "traceback": [
      "\u001b[0;31m---------------------------------------------------------------------------\u001b[0m",
      "\u001b[0;31mTypeError\u001b[0m                                 Traceback (most recent call last)",
      "Cell \u001b[0;32mIn[66], line 11\u001b[0m\n\u001b[1;32m      9\u001b[0m         \u001b[39mself\u001b[39m\u001b[39m.\u001b[39mcolor \u001b[39m=\u001b[39m color\n\u001b[1;32m     10\u001b[0m         \u001b[39mself\u001b[39m\u001b[39m.\u001b[39mdoors \u001b[39m=\u001b[39m doors\n\u001b[0;32m---> 11\u001b[0m mazda \u001b[39m=\u001b[39m Car(\u001b[39m4\u001b[39;49m, \u001b[39m'\u001b[39;49m\u001b[39mblue\u001b[39;49m\u001b[39m'\u001b[39;49m, \u001b[39m4\u001b[39;49m)\n\u001b[1;32m     13\u001b[0m \u001b[39mprint\u001b[39m(mazda\u001b[39m.\u001b[39mwheels)\n\u001b[1;32m     14\u001b[0m \u001b[39mprint\u001b[39m(mazda\u001b[39m.\u001b[39mcolor)\n",
      "\u001b[0;31mTypeError\u001b[0m: Car() takes no arguments"
     ]
    }
   ],
   "source": [
    "def do_something():\n",
    "    pass\n",
    "# methrod is a function that lives inside of a class\n",
    "\n",
    "class Car():\n",
    "#       _init_ will always take in self as its first parameter\n",
    "    def _init_(self, wheels, color, doors):\n",
    "        self.wheels = wheels\n",
    "        self.color = color\n",
    "        self.doors = doors\n",
    "mazda = Car(4, 'blue', 4)\n",
    "\n",
    "print(mazda.wheels)\n",
    "print(mazda.color)\n",
    "\n",
    "ford = Car(6, black, 4)\n"
   ]
  },
  {
   "cell_type": "markdown",
   "metadata": {},
   "source": [
    "##### The 'self' Attribute <br>\n",
    "<p>This attribute is required to keep track of specific instance's attributes. Without the self attribute, the program would not know how to reference or keep track of an instance's attributes.</p>"
   ]
  },
  {
   "cell_type": "code",
   "execution_count": null,
   "metadata": {},
   "outputs": [
    {
     "ename": "TypeError",
     "evalue": "User() takes no arguments",
     "output_type": "error",
     "traceback": [
      "\u001b[0;31m---------------------------------------------------------------------------\u001b[0m",
      "\u001b[0;31mTypeError\u001b[0m                                 Traceback (most recent call last)",
      "Cell \u001b[0;32mIn[15], line 9\u001b[0m\n\u001b[1;32m      6\u001b[0m         \u001b[38;5;28mself\u001b[39m\u001b[38;5;241m.\u001b[39memail \u001b[38;5;241m=\u001b[39m email\n\u001b[1;32m      7\u001b[0m         \u001b[38;5;28mprint\u001b[39m(\u001b[38;5;124m\"\u001b[39m\u001b[38;5;124muser info created, great job!\u001b[39m\u001b[38;5;124m\"\u001b[39m)\n\u001b[0;32m----> 9\u001b[0m user1 \u001b[38;5;241m=\u001b[39m User(\u001b[38;5;124m\"\u001b[39m\u001b[38;5;124mcoolguy13\u001b[39m\u001b[38;5;124m\"\u001b[39m, \u001b[38;5;124m\"\u001b[39m\u001b[38;5;124mScoobydoo3!\u001b[39m\u001b[38;5;124m\"\u001b[39m, \u001b[38;5;124m\"\u001b[39m\u001b[38;5;124mcoolguy@aol.com\u001b[39m\u001b[38;5;124m\"\u001b[39m)\n\u001b[1;32m     11\u001b[0m user2 \u001b[38;5;241m=\u001b[39m User(\u001b[38;5;124m\"\u001b[39m\u001b[38;5;124mpoketrainer4\u001b[39m\u001b[38;5;124m\"\u001b[39m, \u001b[38;5;124m\"\u001b[39m\u001b[38;5;124mpikachu!34\u001b[39m\u001b[38;5;124m\"\u001b[39m, \u001b[38;5;124m\"\u001b[39m\u001b[38;5;124mjeb@hotmail.com\u001b[39m\u001b[38;5;124m\"\u001b[39m)\n\u001b[1;32m     13\u001b[0m user3 \u001b[38;5;241m=\u001b[39m User(\u001b[38;5;124m\"\u001b[39m\u001b[38;5;124moptimus66\u001b[39m\u001b[38;5;124m\"\u001b[39m, \u001b[38;5;124m\"\u001b[39m\u001b[38;5;124mautobots54\u001b[39m\u001b[38;5;124m\"\u001b[39m, \u001b[38;5;124m\"\u001b[39m\u001b[38;5;124mrollout@msn.com\u001b[39m\u001b[38;5;124m\"\u001b[39m)\n",
      "\u001b[0;31mTypeError\u001b[0m: User() takes no arguments"
     ]
    }
   ],
   "source": [
    "class User():\n",
    "    def _init_(self, username, password, email):\n",
    "        print(\"Creating user info...\")\n",
    "        self.username = username\n",
    "        self.password = password\n",
    "        self.email = email\n",
    "        print(\"user info created, great job!\")\n",
    "        \n",
    "user1 = User(\"coolguy13\", \"Scoobydoo3!\", \"coolguy@aol.com\")\n",
    "\n",
    "user2 = User(\"poketrainer4\", \"pikachu!34\", \"jeb@hotmail.com\")\n",
    "\n",
    "user3 = User(\"optimus66\", \"autobots54\", \"rollout@msn.com\")\n",
    "\n",
    "print(\"\\n\")\n",
    "print(user1.username)\n"
   ]
  },
  {
   "cell_type": "markdown",
   "metadata": {},
   "source": [
    "## Class Attributes <br>\n",
    "<p>While variables are inside of a class, they are referred to as attributes and not variables. When someone says 'attribute' you know they're speaking about a class. Attributes can be initialized through the init method, or outside of it.</p>"
   ]
  },
  {
   "cell_type": "markdown",
   "metadata": {},
   "source": [
    "##### Initializing Attributes"
   ]
  },
  {
   "cell_type": "code",
   "execution_count": null,
   "metadata": {},
   "outputs": [],
   "source": [
    "class Pokemon():\n",
    "    def __init__(self, name, type_):        \n",
    "        self.name = name\n",
    "        self.type_ = type_\n",
    "bulbasaur = Pokemon(\"bulbasaur\", \"grass, poison\")\n",
    "# help(bulbasaur)\n",
    "\n",
    "# dir(bulbasaur)"
   ]
  },
  {
   "cell_type": "markdown",
   "metadata": {},
   "source": [
    "##### Accessing Class Attributes"
   ]
  },
  {
   "cell_type": "code",
   "execution_count": null,
   "metadata": {
    "scrolled": true
   },
   "outputs": [
    {
     "ename": "NameError",
     "evalue": "name 'Pokemon' is not defined",
     "output_type": "error",
     "traceback": [
      "\u001b[0;31m---------------------------------------------------------------------------\u001b[0m",
      "\u001b[0;31mNameError\u001b[0m                                 Traceback (most recent call last)",
      "Cell \u001b[0;32mIn[3], line 1\u001b[0m\n\u001b[0;32m----> 1\u001b[0m bulbasaur \u001b[38;5;241m=\u001b[39m Pokemon(\u001b[38;5;124m\"\u001b[39m\u001b[38;5;124mbulbasaur\u001b[39m\u001b[38;5;124m\"\u001b[39m, \u001b[38;5;124m\"\u001b[39m\u001b[38;5;124mgrass,poison\u001b[39m\u001b[38;5;124m\"\u001b[39m)\n\u001b[1;32m      2\u001b[0m \u001b[38;5;28mprint\u001b[39m(bulbasaur\u001b[38;5;241m.\u001b[39mname)\n\u001b[1;32m      3\u001b[0m \u001b[38;5;28mprint\u001b[39m(bulbasaur\u001b[38;5;241m.\u001b[39mtype_)\n",
      "\u001b[0;31mNameError\u001b[0m: name 'Pokemon' is not defined"
     ]
    }
   ],
   "source": [
    "bulbasaur = Pokemon(\"bulbasaur\", \"grass,poison\")\n",
    "print(bulbasaur.name)\n",
    "print(bulbasaur.type_)\n",
    "\n",
    "# do the .__dict__ thing\n",
    "print(bulbasaur.__dict__)\n",
    "\n",
    "bulba_dict = bulbasaur.__dict__\n",
    "print(bulba_dict)"
   ]
  },
  {
   "cell_type": "markdown",
   "metadata": {},
   "source": [
    "##### Setting Defaults for Attributes"
   ]
  },
  {
   "cell_type": "code",
   "execution_count": null,
   "metadata": {},
   "outputs": [
    {
     "ename": "TypeError",
     "evalue": "Car() takes no arguments",
     "output_type": "error",
     "traceback": [
      "\u001b[0;31m---------------------------------------------------------------------------\u001b[0m",
      "\u001b[0;31mTypeError\u001b[0m                                 Traceback (most recent call last)",
      "Cell \u001b[0;32mIn[1], line 6\u001b[0m\n\u001b[1;32m      3\u001b[0m         \u001b[38;5;28mself\u001b[39m\u001b[38;5;241m.\u001b[39mwheels \u001b[38;5;241m=\u001b[39m wheels\n\u001b[1;32m      4\u001b[0m         \u001b[38;5;28mself\u001b[39m\u001b[38;5;241m.\u001b[39mcolor \u001b[38;5;241m=\u001b[39m color\n\u001b[0;32m----> 6\u001b[0m pontiac \u001b[38;5;241m=\u001b[39m Car(\u001b[38;5;241m4\u001b[39m, \u001b[38;5;124m'\u001b[39m\u001b[38;5;124mwhite\u001b[39m\u001b[38;5;124m'\u001b[39m)\n\u001b[1;32m      7\u001b[0m \u001b[38;5;28mprint\u001b[39m(pontiac\u001b[38;5;241m.\u001b[39mcolor)\n\u001b[1;32m      8\u001b[0m Saturn \u001b[38;5;241m=\u001b[39m Car(\u001b[38;5;241m5\u001b[39m)\n",
      "\u001b[0;31mTypeError\u001b[0m: Car() takes no arguments"
     ]
    }
   ],
   "source": [
    "class Car():\n",
    "    def _init_(self, wheels, color =\"red\"):\n",
    "        self.wheels = wheels\n",
    "        self.color = color\n",
    "        \n",
    "pontiac = Car(4, 'white')\n",
    "print(pontiac.color)\n",
    "Saturn = Car(5)\n",
    "print(saturn.color)"
   ]
  },
  {
   "cell_type": "code",
   "execution_count": null,
   "metadata": {},
   "outputs": [
    {
     "ename": "TypeError",
     "evalue": "Car() takes no arguments",
     "output_type": "error",
     "traceback": [
      "\u001b[0;31m---------------------------------------------------------------------------\u001b[0m",
      "\u001b[0;31mTypeError\u001b[0m                                 Traceback (most recent call last)",
      "Cell \u001b[0;32mIn[4], line 10\u001b[0m\n\u001b[1;32m      4\u001b[0m         \u001b[38;5;28mself\u001b[39m\u001b[38;5;241m.\u001b[39mcolor \u001b[38;5;241m=\u001b[39m \u001b[38;5;124m\"\u001b[39m\u001b[38;5;124mBlue\u001b[39m\u001b[38;5;124m\"\u001b[39m\n\u001b[1;32m      6\u001b[0m \u001b[38;5;66;03m#mercury = Car(5)\u001b[39;00m\n\u001b[1;32m      7\u001b[0m \u001b[38;5;66;03m#print(mercury.doors)\u001b[39;00m\n\u001b[1;32m      8\u001b[0m \u001b[38;5;66;03m#print(mercury.color)\u001b[39;00m\n\u001b[0;32m---> 10\u001b[0m uranus \u001b[38;5;241m=\u001b[39m Car(\u001b[38;5;241m4\u001b[39m, \u001b[38;5;124m\"\u001b[39m\u001b[38;5;124mv6\u001b[39m\u001b[38;5;124m\"\u001b[39m)\n\u001b[1;32m     11\u001b[0m \u001b[38;5;28mprint\u001b[39m(uranus\u001b[38;5;241m.\u001b[39mcolor)\n",
      "\u001b[0;31mTypeError\u001b[0m: Car() takes no arguments"
     ]
    }
   ],
   "source": [
    "class Car():\n",
    "    def _init_(self, doors):\n",
    "        self.doors = doors\n",
    "        self.color = \"Blue\"\n",
    "\n",
    "#mercury = Car(5)\n",
    "#print(mercury.doors)\n",
    "#print(mercury.color)\n",
    "\n",
    "uranus = Car(4, \"v6\")\n",
    "print(uranus.color)"
   ]
  },
  {
   "cell_type": "markdown",
   "metadata": {},
   "source": [
    "##### Changing Class Attributes <br>\n",
    "<p>Keep in mind there are global class attributes and then there are attributes only available to each class instance which won't effect other classes.</p>"
   ]
  },
  {
   "cell_type": "code",
   "execution_count": null,
   "metadata": {},
   "outputs": [
    {
     "ename": "TypeError",
     "evalue": "Car() takes no arguments",
     "output_type": "error",
     "traceback": [
      "\u001b[0;31m---------------------------------------------------------------------------\u001b[0m",
      "\u001b[0;31mTypeError\u001b[0m                                 Traceback (most recent call last)",
      "Cell \u001b[0;32mIn[5], line 1\u001b[0m\n\u001b[0;32m----> 1\u001b[0m chevy \u001b[38;5;241m=\u001b[39m Car(\u001b[38;5;241m4\u001b[39m)\n\u001b[1;32m      2\u001b[0m \u001b[38;5;28mprint\u001b[39m(\u001b[38;5;124mf\u001b[39m\u001b[38;5;124m\"\u001b[39m\u001b[38;5;124mbefore color change:\u001b[39m\u001b[38;5;132;01m{\u001b[39;00mchevy\u001b[38;5;241m.\u001b[39mcolor\u001b[38;5;132;01m}\u001b[39;00m\u001b[38;5;124m\"\u001b[39m)\n\u001b[1;32m      3\u001b[0m chevy\u001b[38;5;241m.\u001b[39mcolor \u001b[38;5;241m=\u001b[39m \u001b[38;5;124m\"\u001b[39m\u001b[38;5;124myellow\u001b[39m\u001b[38;5;124m\"\u001b[39m\n",
      "\u001b[0;31mTypeError\u001b[0m: Car() takes no arguments"
     ]
    }
   ],
   "source": [
    "chevy = Car(4)\n",
    "print(f\"before color change:{chevy.color}\")\n",
    "chevy.color = \"yellow\"\n",
    "print(f\"after color change:{chevy.color}\")"
   ]
  },
  {
   "cell_type": "code",
   "execution_count": null,
   "metadata": {},
   "outputs": [],
   "source": []
  },
  {
   "cell_type": "markdown",
   "metadata": {},
   "source": [
    "##### In-Class Exercise #2 - Add two new attributes to your 'Car' class then print out two different instances with different doors and seats. Then take that bad boy to the shop and change those attributes. Either with an input or just by changing them"
   ]
  },
  {
   "cell_type": "code",
   "execution_count": null,
   "metadata": {},
   "outputs": [
    {
     "name": "stdout",
     "output_type": "stream",
     "text": [
      "4\n",
      "red\n",
      "4\n",
      "5\n",
      "before color change: red\n",
      "orange\n"
     ]
    }
   ],
   "source": [
    "class Car():\n",
    "    def __init__(self, wheels, color, doors, seats):\n",
    "        self.wheels = wheels\n",
    "        self.color = color\n",
    "        self.doors = doors\n",
    "        self.seats = seats\n",
    "    \n",
    "\n",
    "saturn = Car(4, 'red', 4, 5)\n",
    "print(saturn.wheels)\n",
    "print(saturn.color)\n",
    "print(saturn.doors)\n",
    "print(saturn.seats)\n",
    "print(f\"before color change: {saturn.color}\")\n",
    "saturn.color = \"orange\"\n",
    "print(saturn.color)\n"
   ]
  },
  {
   "cell_type": "markdown",
   "metadata": {},
   "source": [
    "## Class Methods <br>\n",
    "<p>While inside of a class, functions are referred to as 'methods'. If you hear someone mention methods, they're speaking about classes. Methods are essentially functions, but only callable on the instances of a class.</p>"
   ]
  },
  {
   "cell_type": "markdown",
   "metadata": {},
   "source": [
    "##### Creating"
   ]
  },
  {
   "cell_type": "code",
   "execution_count": null,
   "metadata": {},
   "outputs": [
    {
     "ename": "TypeError",
     "evalue": "Car() takes no arguments",
     "output_type": "error",
     "traceback": [
      "\u001b[0;31m---------------------------------------------------------------------------\u001b[0m",
      "\u001b[0;31mTypeError\u001b[0m                                 Traceback (most recent call last)",
      "Cell \u001b[0;32mIn[5], line 11\u001b[0m\n\u001b[1;32m      8\u001b[0m     \u001b[38;5;28;01mdef\u001b[39;00m \u001b[38;5;21mprint_info\u001b[39m(\u001b[38;5;28mself\u001b[39m):\n\u001b[1;32m      9\u001b[0m         \u001b[38;5;28mprint\u001b[39m(\u001b[38;5;124mf\u001b[39m\u001b[38;5;124m\"\u001b[39m\u001b[38;5;124mThis\u001b[39m\u001b[38;5;132;01m{\u001b[39;00m\u001b[38;5;28mself\u001b[39m\u001b[38;5;241m.\u001b[39mmake\u001b[38;5;132;01m}\u001b[39;00m\u001b[38;5;124m \u001b[39m\u001b[38;5;132;01m{\u001b[39;00m\u001b[38;5;28mself\u001b[39m\u001b[38;5;241m.\u001b[39mmodel\u001b[38;5;132;01m}\u001b[39;00m\u001b[38;5;124m has \u001b[39m\u001b[38;5;132;01m{\u001b[39;00m\u001b[38;5;28mself\u001b[39m\u001b[38;5;241m.\u001b[39mdoors\u001b[38;5;132;01m}\u001b[39;00m\u001b[38;5;124m doors and \u001b[39m\u001b[38;5;132;01m{\u001b[39;00m\u001b[38;5;28mself\u001b[39m\u001b[38;5;241m.\u001b[39mseats\u001b[38;5;132;01m}\u001b[39;00m\u001b[38;5;124m seats\u001b[39m\u001b[38;5;124m\"\u001b[39m)\n\u001b[0;32m---> 11\u001b[0m lumina \u001b[38;5;241m=\u001b[39m Car(\u001b[38;5;241m4\u001b[39m, \u001b[38;5;241m5\u001b[39m, \u001b[38;5;124m\"\u001b[39m\u001b[38;5;124mchevy\u001b[39m\u001b[38;5;124m\"\u001b[39m, \u001b[38;5;124m\"\u001b[39m\u001b[38;5;124mModel\u001b[39m\u001b[38;5;124m\"\u001b[39m)\n\u001b[1;32m     13\u001b[0m lumina\u001b[38;5;241m.\u001b[39mprint_info()\n",
      "\u001b[0;31mTypeError\u001b[0m: Car() takes no arguments"
     ]
    }
   ],
   "source": [
    "class Car():\n",
    "    def _init_(self, doors, seats, make, model):\n",
    "        self.doors = doors\n",
    "        self.seats = seats\n",
    "        self.make = make\n",
    "        self.model = model\n",
    "    \n",
    "    def print_info(self):\n",
    "        print(f\"This{self.make} {self.model} has {self.doors} doors and {self.seats} seats\")\n",
    "\n",
    "lumina = Car(4, 5, \"chevy\", \"Model\")\n",
    "\n",
    "lumina.print_info()# amke sure when calling class methods you use parentheses"
   ]
  },
  {
   "cell_type": "code",
   "execution_count": null,
   "metadata": {},
   "outputs": [],
   "source": [
    "class Bus():\n",
    "    \"\"\"\n",
    "    The bus will have doors, seats, seats available, color, and a bus driver\n",
    "    \n",
    "    Attributes for the bus:\n",
    "    -doors: integer\n",
    "    -seats: integer\n",
    "    -seats_available: integer\n",
    "    -color: string\n",
    "    -bus_driver: string\n",
    "    \"\"\"\n",
    "    \n",
    "    def __init__(self, doors, seats, seats_available, color, bus_driver):\n",
    "        self.doors = doors\n",
    "        self.seats = seats\n",
    "        self.seats_available = seats_available\n",
    "        self.color = color\n",
    "        self.bus_driver = bus_driver\n",
    "    \n",
    "#     decrementing the number of seats available\n",
    "    def load_passengers(self):\n",
    "        if self.seats_available <= 0:\n",
    "            print(\"The bus is full! You can't take anymore passengers :(\")\n",
    "            if self.seats_available < 0:\n",
    "                print(f\"You have left {abs(self.seats_available)} people by the road.\")\n",
    "                self.seats_available = 0\n",
    "        else:\n",
    "            passengers = int(input(\"How many passengers are gettign on? \"))\n",
    "            self.seats_available -= passengers\n",
    "            if self.seats_available < 0:\n",
    "                print(f\"You have left {abs(self.seats_available)} by the road!\")\n",
    "                self.seats_available = 0\n",
    "                \n",
    "#     incrementing the number of seats available\n",
    "    def unload_passengers(self):\n",
    "        if self.seats_available >= self.seats:\n",
    "            print(\"There is no one on the bus to unload!\")\n",
    "        else: \n",
    "            unload = int(input(\"How many passengers are getting off the bus?\"))\n",
    "            self.seats_available += unload\n",
    "            if self.seats_available >= self.seats:\n",
    "                self.seats_available = self.seats\n",
    "                \n",
    "            print(f\"{unload} passengers have left the bus. There are {self.seats_available} seats left\")\n",
    "            \n",
    "#     change the bus driver attribute\n",
    "    def change_driver(self):\n",
    "        change = input(\"Who is replacing you? \")\n",
    "        self.bus_driver = change\n",
    "        print(f\"The new bus driver is {self.bus_driver}. Be sure to thank them!\")\n",
    "        \n",
    "#   display the number of available seats\n",
    "    def check_seats(self):\n",
    "        print(f\"There are {self.seats_available} seats available\")\n",
    "        \n",
    "#    display the bus color\n",
    "    def admire_bus(self):\n",
    "        print(f\"Would ya just look at it! Would ya just look at that beautiful {self.color} bus! But would ya just look at it.\")\n",
    "                             \n",
    "        \n"
   ]
  },
  {
   "cell_type": "markdown",
   "metadata": {},
   "source": [
    "##### Calling"
   ]
  },
  {
   "cell_type": "code",
   "execution_count": null,
   "metadata": {},
   "outputs": [
    {
     "name": "stdout",
     "output_type": "stream",
     "text": [
      "What would you like to do? Load/Unload/Change Driver/Check Seats/Admire Bus/Quit?quit\n",
      "OH NO! There are still passangers to be picked up.\n"
     ]
    }
   ],
   "source": [
    "def run():\n",
    "    uli_bus = Bus(2, 90, 45, \"yellow\", \"Ulissa\")\n",
    "    \n",
    "    while True:\n",
    "        response = input(\"What would you like to do? Load/Unload/Change Driver/Check Seats/Admire Bus/Quit?\").lower()\n",
    "        if response == \"quit\":\n",
    "            print(\"OH NO! There are still passangers to be picked up.\")\n",
    "            break\n",
    "        elif response == \"load\":\n",
    "            uli_bus.load_passengers()\n",
    "            \n",
    "        elif response == \"unload\":\n",
    "            uli_bus.unload_passengers()\n",
    "            \n",
    "        elif response == \"change driver\":\n",
    "            uli_bus.change_driver()\n",
    "            \n",
    "        elif response == \"check seats\":\n",
    "            uli_bus.check_seats()\n",
    "            \n",
    "        elif response == \"admire bus\":\n",
    "            uli_bus.admire_bus()\n",
    "            \n",
    "        else:\n",
    "            print(\"Please eneter a valid, bus-related response\")\n",
    "            \n",
    "run()"
   ]
  },
  {
   "cell_type": "markdown",
   "metadata": {},
   "source": [
    "##### Modifying an Attribute's Value Through a Method"
   ]
  },
  {
   "cell_type": "code",
   "execution_count": null,
   "metadata": {},
   "outputs": [],
   "source": [
    "# see above\n",
    "# load_passengers()\n",
    "# unload_passengers()\n",
    "# change_driver()"
   ]
  },
  {
   "cell_type": "markdown",
   "metadata": {},
   "source": [
    "##### Incrementing an Attribute's Value Through a Method"
   ]
  },
  {
   "cell_type": "code",
   "execution_count": null,
   "metadata": {},
   "outputs": [],
   "source": [
    "#unload_passengers()"
   ]
  },
  {
   "cell_type": "markdown",
   "metadata": {},
   "source": [
    "##### In-Class Exercise #3 - Add a method that takes in three parameters of year, doors and seats and prints out a formatted print statement with make, model, year, seats, and doors"
   ]
  },
  {
   "cell_type": "code",
   "execution_count": null,
   "metadata": {},
   "outputs": [
    {
     "name": "stdout",
     "output_type": "stream",
     "text": [
      "This car is from 2019 and is a Ford Freestyle and has  4 doors and 5 seats.\n",
      "Vrrooom\n",
      "you have 6 galloons left\n",
      "This car is from 2019 and is a Ford Explorer and has  4 doors and 5 seats.\n"
     ]
    }
   ],
   "source": [
    "# Create class with 2 paramters inside of the __init__ which are make and model, more if you'd like\n",
    "class Car2:\n",
    "    def __init__(self,make, model, year= 2019, doors =4, seats=5, gas = 7):\n",
    "        self.make = make \n",
    "        self.model = model\n",
    "        self.year = year\n",
    "        self.doors = doors\n",
    "        self.seats = seats\n",
    "        self.gas = gas\n",
    "# Create two methods for your class\n",
    "    def drive(self):\n",
    "        print(\"Vrrooom\")\n",
    "        self.gas -= 1\n",
    "        print(f\"you have {self.gas} galloons left\")\n",
    "# Create a method that alters an attribute for your class\n",
    "    def set_model(self,model):\n",
    "        self.model = model\n",
    "# Display method that prints information about the vehicle\n",
    "    def info(self):\n",
    "        print(f\"This car is from {self.year} and is a {self.make.title()} {self.model.title()} and has  {self.doors} doors and {self.seats} seats.\")\n",
    "# Output: This car is from 2019 and is a Ford Expolorer and has 4 doors and 5 seats\n",
    "\n",
    "# reminder in order to call class methods object.method()\n",
    "ford = Car2(\"ford\", \"Freestyle\")\n",
    "\n",
    "ford.info()\n",
    "\n",
    "ford.drive()\n",
    "\n",
    "ford.set_model(\"Explorer\")\n",
    "ford.info()"
   ]
  },
  {
   "cell_type": "code",
   "execution_count": null,
   "metadata": {},
   "outputs": [
    {
     "name": "stdout",
     "output_type": "stream",
     "text": [
      "This car is from 2019 and is a Lexus rx350 has 4 doors and 5 seats\n"
     ]
    }
   ],
   "source": [
    "class Car():\n",
    "    def __init__(self, year, doors, seats, make, model):\n",
    "        self.year = year\n",
    "        self.doors = doors\n",
    "        self.seats = seats\n",
    "        self.make = make\n",
    "        self.model = model\n",
    "        \n",
    "\n",
    "    def print_info(self):\n",
    "        print(f\"This car is from {self.year} and is a {self.make} {self.model} has {self.doors} doors and {self.seats} seats\")\n",
    "\n",
    "lexus = Car(2019, 4, 5, \"Lexus\", \"rx350\")\n",
    "\n",
    "lexus.print_info()"
   ]
  },
  {
   "cell_type": "markdown",
   "metadata": {},
   "source": [
    "## Inheritance <br>\n",
    "<p>You can create a child-parent relationship between two classes by using inheritance. What this allows you to do is have overriding methods, but also inherit traits from the parent class. Think of it as an actual parent and child, the child will inherit the parent's genes, as will the classes in OOP</p>"
   ]
  },
  {
   "cell_type": "markdown",
   "metadata": {},
   "source": [
    "##### Syntax for Inheriting from a Parent Class"
   ]
  },
  {
   "cell_type": "code",
   "execution_count": null,
   "metadata": {},
   "outputs": [],
   "source": [
    "# parent class\n",
    "class Animal():\n",
    "    ACCELERATION = 9.8\n",
    "    \n",
    "    def __init__(self, name, species, legs=4):\n",
    "        self.name = name\n",
    "        self.species = species\n",
    "        self.legs = legs\n",
    "        \n",
    "        \n",
    "    # generic parent method\n",
    "    def make_sound(self):\n",
    "        print(\"REEEEEEEEEE\")\n",
    "# child class\n",
    "class Dog(Animal):\n",
    "    SPEED = 15\n",
    "    def __init__(self, name, species, legs = 4):        \n",
    "        super().__init__(name, species, legs)\n",
    "#         does this stuff below ⬇\n",
    "#         self.name = name\n",
    "#         self.species = species\n",
    "#         self.legs = legs\n",
    "\n",
    "    def print_info(self):\n",
    "        print(f\"{self.name} runs at {self.SPEED} mph and accelerates and {self.ACCELERATION} mps^2\")\n",
    "        \n",
    "        \n",
    "# grandchild class\n",
    "class Mutt(Dog):\n",
    "    COLOR = \"light brownish\"\n",
    "    \n",
    "    def __init__(self, name, species, eye_color, legs = 4):\n",
    "        Dog.__init__(self, name, species, legs)\n",
    "        self.eye_color = eye_color\n",
    "        \n",
    "#     override a parent method\n",
    "    def make_sound(self):\n",
    "        print(\"roooooooooo\")\n",
    "        \n",
    "        \n",
    "\n",
    "    "
   ]
  },
  {
   "cell_type": "code",
   "execution_count": null,
   "metadata": {},
   "outputs": [
    {
     "name": "stdout",
     "output_type": "stream",
     "text": [
      "9.8\n",
      "Cheetor\n",
      "REEEEEEEEEE\n",
      "Shadow\n",
      "4\n",
      "9.8\n",
      "15\n",
      "REEEEEEEEEE\n",
      "Shadow runs at 15 mph and accelerates and 9.8 mps^2\n"
     ]
    }
   ],
   "source": [
    "cheetah = Animal(\"Cheetor\", \"cheetah\")\n",
    "print(cheetah.ACCELERATION)\n",
    "print(cheetah.name)\n",
    "cheetah.make_sound()\n",
    "\n",
    "golden_retriever = Dog(\"Shadow\", \"Dog\", 4)\n",
    "print(golden_retriever.name)\n",
    "print(golden_retriever.legs)\n",
    "print(golden_retriever.ACCELERATION)\n",
    "print(golden_retriever.SPEED)\n",
    "golden_retriever.make_sound()\n",
    "golden_retriever.print_info()"
   ]
  },
  {
   "cell_type": "markdown",
   "metadata": {},
   "source": [
    "##### The \\__init\\__() Method for a Child Class - super()"
   ]
  },
  {
   "cell_type": "code",
   "execution_count": null,
   "metadata": {
    "scrolled": true
   },
   "outputs": [],
   "source": []
  },
  {
   "cell_type": "markdown",
   "metadata": {},
   "source": [
    "##### Defining Attributes and Methods for the Child Class"
   ]
  },
  {
   "cell_type": "code",
   "execution_count": null,
   "metadata": {},
   "outputs": [],
   "source": [
    "# See Above"
   ]
  },
  {
   "cell_type": "markdown",
   "metadata": {},
   "source": [
    "##### Method Overriding"
   ]
  },
  {
   "cell_type": "code",
   "execution_count": null,
   "metadata": {},
   "outputs": [],
   "source": [
    "# See Above"
   ]
  },
  {
   "cell_type": "markdown",
   "metadata": {},
   "source": [
    "## Classes as Attributes <br>\n",
    "<p>Classes can also be used as attributes within another class. This is useful in situations where you need to keep variables locally stored, instead of globally stored.</p>"
   ]
  },
  {
   "cell_type": "code",
   "execution_count": null,
   "metadata": {},
   "outputs": [
    {
     "name": "stdout",
     "output_type": "stream",
     "text": [
      "2022 Tesla Model Y 20 cells\n"
     ]
    }
   ],
   "source": [
    "class Battery():\n",
    "    VOLTZ = 7.8\n",
    "    \n",
    "    def __init__(self, cells):\n",
    "        self.cells = cells\n",
    "        \n",
    "class Car():\n",
    "    def __init__(self, year, make, model, battery):\n",
    "        self.year = year\n",
    "        self.make = make\n",
    "        self.model = model\n",
    "        self.battery = battery\n",
    "    \n",
    "    def print_info(self):\n",
    "        print(f\"{self.year} {self.make} {self.model} {self.battery} cells\")\n",
    "        \n",
    "batt = Battery(20)\n",
    "\n",
    "tesla = Car(2022, \"Tesla\", \"Model Y\", batt.cells)\n",
    "\n",
    "tesla.print_info()"
   ]
  },
  {
   "cell_type": "markdown",
   "metadata": {},
   "source": [
    "## Classes as Attributes <br>"
   ]
  },
  {
   "cell_type": "markdown",
   "metadata": {},
   "source": [
    "<b>Generators in classes</b>"
   ]
  },
  {
   "cell_type": "code",
   "execution_count": null,
   "metadata": {},
   "outputs": [],
   "source": []
  },
  {
   "cell_type": "markdown",
   "metadata": {},
   "source": [
    "# Exercises"
   ]
  },
  {
   "cell_type": "markdown",
   "metadata": {},
   "source": [
    "### Exercise 1 - Turn the shopping cart program from last week into an object-oriented program\n",
    "\n",
    "The comments in the cell below are there as a guide for thinking about the problem. However, if you feel a different way is best for you and your own thought process, please do what feels best for you by all means."
   ]
  },
  {
   "cell_type": "code",
   "execution_count": null,
   "metadata": {},
   "outputs": [],
   "source": [
    "# Create a class called cart that retains items and has methods to add, remove, and show\n",
    "\n",
    "class Cart():\n",
    "    def __init__(self):\n",
    "        self.cart ={}\n",
    "\n",
    "    def add(sel, item, quan):\n",
    "        self.cart[item] = quan\n",
    "        print(f\"You added {quan} {item}\")\n",
    "\n",
    "    def view(self):\n",
    "        print(self.cart)\n",
    "\n",
    "    def remove(self, item, quan):\n",
    "        self.cart[item] -= quan\n",
    "        self.cart(quan)\n",
    "        print(f\"You  removed {quan} {item}\")\n",
    "\n",
    "def main():\n",
    "    second_cart = Cart()\n",
    "\n",
    "    while True:\n",
    "        response = input(\"What would you like to do? add/view/delete/quit\")\n",
    "        if response.strip().lower() == \"add\":\n",
    "            items = input(\"What would you like to add\")\n",
    "            quantity = input(\"Amount?\")\n",
    "            second_cart.add(items, quantity)\n",
    "        elif response.strip().lower() == \"view\":\n",
    "            second_cart.view()\n",
    "        elif response.strip().lower() == \"delete\":\n",
    "            deleted = input(\"What would you like to delete?\")\n",
    "            amountdel = input(\"How many items would like to remove from your cart?\")\n",
    "            second_cart.remove(deleted, amountdel)\n",
    "        elif response.strip().lower() == \"quit\":\n",
    "            second_cart.view()\n",
    "            break\n",
    "        else:\n",
    "                print(\"Please enter a valid response dude!\")\n",
    "\n",
    "main()\n",
    "\n",
    "\n",
    "    \n",
    "    "
   ]
  },
  {
   "cell_type": "markdown",
   "metadata": {},
   "source": [
    "### Exercise 2 - Write a Python class which has two methods get_String and print_String. get_String accept a string from the user and print_String print the string in upper case"
   ]
  },
  {
   "cell_type": "code",
   "execution_count": null,
   "metadata": {},
   "outputs": [],
   "source": [
    "\n"
   ]
  }
 ],
 "metadata": {
  "kernelspec": {
   "display_name": "Python 3 (ipykernel)",
   "language": "python",
   "name": "python3"
  },
  "language_info": {
   "codemirror_mode": {
    "name": "ipython",
    "version": 3
   },
   "file_extension": ".py",
   "mimetype": "text/x-python",
   "name": "python",
   "nbconvert_exporter": "python",
   "pygments_lexer": "ipython3",
   "version": "3.9.7"
  }
 },
 "nbformat": 4,
 "nbformat_minor": 2
}
